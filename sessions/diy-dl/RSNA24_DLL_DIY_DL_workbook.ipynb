{
  "nbformat": 4,
  "nbformat_minor": 0,
  "metadata": {
    "colab": {
      "provenance": [],
      "authorship_tag": "ABX9TyMYJlpSsbUNfoBMYAwfGRfY",
      "include_colab_link": true
    },
    "kernelspec": {
      "name": "python3",
      "display_name": "Python 3"
    },
    "language_info": {
      "name": "python"
    }
  },
  "cells": [
    {
      "cell_type": "markdown",
      "metadata": {
        "id": "view-in-github",
        "colab_type": "text"
      },
      "source": [
        "<a href=\"https://colab.research.google.com/github/RSNA/AI-Deep-Learning-Lab-2024/blob/main/sessions/diy-dl/RSNA24_DLL_DIY_DL_workbook.ipynb\" target=\"_parent\"><img src=\"https://colab.research.google.com/assets/colab-badge.svg\" alt=\"Open In Colab\"/></a>"
      ]
    },
    {
      "cell_type": "markdown",
      "source": [
        "# RSNA Deep Learning Lab - DIY Deep Learning\n",
        "## Hands-on demonstration in Colab\n",
        "\n",
        "### Acknowledgements\n",
        "Inspired by the article \"Hello World Deep Learning in Medical Imaging\" in [Journal of Digital Imaging](https://pubmed.ncbi.nlm.nih.gov/29725961/) by Paras Lakhani, Daniel L Gray, Carl R Pett, Paul Nagy, and George Shih."
      ],
      "metadata": {
        "id": "mEHAVvzywrxC"
      }
    },
    {
      "cell_type": "markdown",
      "source": [
        "## Download the data\n",
        "Start with downloading the data using the `wget` function and the command line \"magic\" in Colab. E.g. `! wget`.\n",
        "\n",
        "Link to data: https://github.com/paras42/Hello_World_Deep_Learning/blob/master/Open_I_abd_vs_CXRs.zip\n",
        "\n",
        "Then unzip the data using the `unzip` command."
      ],
      "metadata": {
        "id": "uPBGf72IxxFQ"
      }
    },
    {
      "cell_type": "code",
      "execution_count": null,
      "metadata": {
        "id": "ncBt7vevwqow"
      },
      "outputs": [],
      "source": [
        "# Start typing your code below - use the suggestions (or maybe don't!) by hitting the {Tab} key\n",
        "\n"
      ]
    },
    {
      "cell_type": "code",
      "source": [
        "#@title Need a Hint?\n",
        "#@markdown Double-click this cell to unhide the hint\n",
        "\n",
        "# Hint: did you append \"?raw=true\" to the hyperlink?"
      ],
      "metadata": {
        "cellView": "form",
        "id": "skH_H6Dsy5gp"
      },
      "execution_count": null,
      "outputs": []
    },
    {
      "cell_type": "markdown",
      "source": [
        "## Organize the data\n",
        "\n",
        "1. Change the name of the data directory to `data` using the `mv` command.\n",
        "2. Change the names of the subdirectories of `TRAIN` and `VAL` to `abd` and `chest` for simplicity."
      ],
      "metadata": {
        "id": "5C_uX1CmzRIW"
      }
    },
    {
      "cell_type": "code",
      "source": [
        "# Type your code below\n",
        "\n"
      ],
      "metadata": {
        "id": "a5i7VVP7zxE8"
      },
      "execution_count": null,
      "outputs": []
    },
    {
      "cell_type": "markdown",
      "source": [
        "## Setting up model training\n",
        "\n",
        "Next, we'll use [Pytorch](https://pytorch.org/) and the `torchvision` library to create `DataLoaders` from our `TRAIN` and `VAL` subfolders.\n",
        "\n",
        "As above, you can simply start typing code and see what suggestions arise. Or... you can click the `generate` link in the cell below and type in a prompt to have an LLM assist you in generating the code."
      ],
      "metadata": {
        "id": "z0i88hiXsvSY"
      }
    },
    {
      "cell_type": "code",
      "source": [],
      "metadata": {
        "id": "q6qC_MMEsu9R"
      },
      "execution_count": null,
      "outputs": []
    },
    {
      "cell_type": "code",
      "source": [
        "#@title Need a hint?\n",
        "#@markdown Double-click this cell to unhide the hint\n",
        "\n",
        "# Hint: torchvision has an \"image folder\" method for data organized in labeled subfolders like ours\n",
        "\n",
        "# Try the prompt below or re-type your prompt adding something about using the torchvision image folder method\n",
        "# prompt: create torchvision image folder datasets and pytorch dataloaders for the TRAIN and VAL subfolders of data_dir"
      ],
      "metadata": {
        "cellView": "form",
        "id": "LB_DbMITz3a7"
      },
      "execution_count": null,
      "outputs": []
    },
    {
      "cell_type": "markdown",
      "source": [
        "## Write and run the training loop\n",
        "\n",
        "Given the size of the dataset, we can use a small model (such as ResNet-18) and train for just a couple of epochs.\n",
        "\n",
        "Try using the `generate` function below and prompting the LLM to write the training loop for you.\n",
        "\n",
        "You may try adding in additional requests like \"track and plot the training and validation loss\", but start simple on the first pass."
      ],
      "metadata": {
        "id": "fyQytCAFu4f9"
      }
    },
    {
      "cell_type": "code",
      "source": [],
      "metadata": {
        "id": "XI2Vbult0Gnt"
      },
      "execution_count": null,
      "outputs": []
    },
    {
      "cell_type": "code",
      "source": [
        "#@title Need a hint?\n",
        "#@markdown Double-click this cell to unhide the hint\n",
        "\n",
        "# prompt: write a training loop to train a resnet18 for 3 epochs"
      ],
      "metadata": {
        "cellView": "form",
        "id": "_JPiMTfZvw-z"
      },
      "execution_count": null,
      "outputs": []
    },
    {
      "cell_type": "markdown",
      "source": [
        "## Test our trained model\n",
        "\n",
        "Now we want to write a predict function that takes an image file as input.\n",
        "\n",
        "Try the AI-assisted code generation again here."
      ],
      "metadata": {
        "id": "0zsInck6wBH5"
      }
    },
    {
      "cell_type": "code",
      "source": [],
      "metadata": {
        "id": "oghyZmRwwA1z"
      },
      "execution_count": null,
      "outputs": []
    },
    {
      "cell_type": "code",
      "source": [
        "#@title Need a hint?\n",
        "#@markdown Double-click this cell to unhide the hint\n",
        "\n",
        "# prompt: write a predict function for the trained model that takes a path to an image file as input"
      ],
      "metadata": {
        "cellView": "form",
        "id": "8-dHFMJ5v9oS"
      },
      "execution_count": null,
      "outputs": []
    },
    {
      "cell_type": "markdown",
      "source": [
        "## Run the predict function\n",
        "\n",
        "Use the `predict` function above to test our model on the two images in the `TEST` subfolder.\n",
        "\n",
        "Be sure to display the test image alongside the predicted label and prediction \"probability\", so we can visually assess how the model performs."
      ],
      "metadata": {
        "id": "LudMbnviwshr"
      }
    },
    {
      "cell_type": "code",
      "source": [],
      "metadata": {
        "id": "0aIX18uKwsJl"
      },
      "execution_count": null,
      "outputs": []
    },
    {
      "cell_type": "code",
      "source": [
        "#@title Need a hint?\n",
        "#@markdown Double-click this cell to unhide the hint\n",
        "\n",
        "# Hint:\n",
        "# 1. use the `os` library to create the path to one file\n",
        "# 2. use the `matplotlib.pyplot` library to display the test image along with the predicted label and prediction probability"
      ],
      "metadata": {
        "cellView": "form",
        "id": "ABuXQoukv98X"
      },
      "execution_count": null,
      "outputs": []
    },
    {
      "cell_type": "code",
      "source": [
        "#@title Need an answer?\n",
        "#@markdown Double-click this cell to unhide the code\n",
        "\n",
        "# import os\n",
        "# import matplotlib.pyplot as plt\n",
        "\n",
        "# file_path = os.path.join(data_dir, 'TEST', 'abd2.png')\n",
        "# pred_label, pred_prob = predict(file_path)\n",
        "# print(f\"Predicted Label: {pred_label}, Probability: {pred_prob:.4f}\")\n",
        "# plt.imshow(Image.open(file_path));"
      ],
      "metadata": {
        "cellView": "form",
        "id": "bmTia4L4xfwx"
      },
      "execution_count": null,
      "outputs": []
    }
  ]
}