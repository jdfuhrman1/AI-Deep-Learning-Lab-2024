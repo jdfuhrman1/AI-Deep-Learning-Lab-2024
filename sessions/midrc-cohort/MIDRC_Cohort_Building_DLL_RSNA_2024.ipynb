{
  "cells": [
    {
      "cell_type": "markdown",
      "metadata": {
        "id": "view-in-github",
        "colab_type": "text"
      },
      "source": [
        "<a href=\"https://colab.research.google.com/github/cgmeyer/AI-Deep-Learning-Lab-2024/blob/midrc-cohort%2Fupdate_readme_nb/sessions/midrc-cohort/MIDRC_Cohort_Building_DLL_RSNA_2024.ipynb\" target=\"_parent\"><img src=\"https://colab.research.google.com/assets/colab-badge.svg\" alt=\"Open In Colab\"/></a>"
      ]
    },
    {
      "cell_type": "markdown",
      "metadata": {
        "id": "d8ef63c3"
      },
      "source": [
        "# Cohort Building Using the MIDRC Data Commons and Biomedical Imaging Hub\n",
        "---\n",
        "This notebook briefly demonstrates how to use the MIDRC open APIs to build a cohort of MIDRC imaging studies using patient clinical data and AI-research-based annotations in the MIDRC data commons and then access and view the X-ray image files associated with those imaging studies.\n",
        "\n",
        "It also demonstrates how to use the MIDRC Biomedical Imaging Hub (BIH) open metadata APIs to discover images across the Biomedical Data Fabric (BDF), including those in data resources other than the MIDRC data commons.\n",
        "\n",
        "All cohort selection possible in the [MIDRC data explorer UI](https://data.midrc.org/explorer) and the [MIDRC BIH Explorer](https://imaging-hub.data-commons.org/Explorer) can also be achieved programmatically using API requests. In this notebook, we'll select the same cohort as in the data explorer demo detailed in [these slides](https://docs.google.com/presentation/d/1cMKyl-QWa2oM9HFnr0F7D83JaPx74GyFErz7O-gJjas/edit?usp=sharing).\n",
        "\n",
        "by Chris Meyer, PhD\n",
        "\n",
        "Manager of Data and User Services at the Center for Translational Data Science at University of Chicago\n",
        "\n",
        "Presented at the MIDRC RSNA 2024 Deep Learning Lab on December 2, 2024"
      ],
      "id": "d8ef63c3"
    },
    {
      "cell_type": "markdown",
      "metadata": {
        "id": "5db7f87c"
      },
      "source": [
        "## 1) Set up Python environment\n",
        "---\n"
      ],
      "id": "5db7f87c"
    },
    {
      "cell_type": "markdown",
      "metadata": {
        "id": "ffc85bb2-3ed6-4eef-a943-724eef02c41b"
      },
      "source": [
        "### Download an API key file containing your credentials\n",
        "---\n",
        "\n",
        "1) Navigate to the MIDRC data portal in your browser: https://data.midrc.org.\n",
        "\n",
        "2) Read and accept the DUA (if you haven't already).\n",
        "\n",
        "3) Navigate to the user profile page: https://data.midrc.org/identity\n",
        "\n",
        "4) Click on the button \"Create API Key\" and save the `credentials.json` file somewhere safe as \"midrc-credentials.json\".\n"
      ],
      "id": "ffc85bb2-3ed6-4eef-a943-724eef02c41b"
    },
    {
      "cell_type": "markdown",
      "metadata": {
        "id": "1bffd5d4"
      },
      "source": [
        "### Set local variables\n",
        "---\n",
        "Change the following `cred` variable path to point to your credentials file downloaded from the MIDRC data portal following the instructions above."
      ],
      "id": "1bffd5d4"
    },
    {
      "cell_type": "code",
      "execution_count": null,
      "metadata": {
        "id": "c3c59c2c"
      },
      "outputs": [],
      "source": [
        "cred = \"/content/midrc-credentials.json\" # location of your MIDRC credentials, downloaded from https://data.midrc.org/identity by clicking \"Create API key\" button and saving the credentials.json locally\n",
        "api = \"https://data.midrc.org\" # The base URL of the data commons being queried. This shouldn't change for MIDRC.\n"
      ],
      "id": "c3c59c2c"
    },
    {
      "cell_type": "markdown",
      "metadata": {
        "id": "7962e54c"
      },
      "source": [
        "### Install / Import Python Packages and Scripts"
      ],
      "id": "7962e54c"
    },
    {
      "cell_type": "code",
      "execution_count": null,
      "metadata": {
        "id": "8e1a7935"
      },
      "outputs": [],
      "source": [
        "## The packages below may be necessary for users to install according to the imports necessary in the subsequent cells.\n",
        "\n",
        "import sys\n",
        "#!{sys.executable} -m pip install\n",
        "#!{sys.executable} -m pip install --upgrade pandas\n",
        "#!{sys.executable} -m pip install --upgrade --ignore-installed PyYAML\n",
        "#!{sys.executable} -m pip install --upgrade pip\n",
        "!{sys.executable} -m pip install --upgrade gen3\n",
        "!{sys.executable} -m pip install pydicom\n",
        "#!{sys.executable} -m pip install --upgrade Pillow\n",
        "#!{sys.executable} -m pip install psmpy\n",
        "#!{sys.executable} -m pip install python-gdcm --upgrade\n",
        "#!{sys.executable} -m pip install pylibjpeg --upgrade"
      ],
      "id": "8e1a7935"
    },
    {
      "cell_type": "code",
      "execution_count": null,
      "metadata": {
        "id": "7ea2fa09"
      },
      "outputs": [],
      "source": [
        "## Import Python Packages and scripts\n",
        "\n",
        "import os, subprocess\n",
        "import pandas as pd\n",
        "import numpy as np\n",
        "import pydicom\n",
        "from PIL import Image\n",
        "import glob\n",
        "#import gdcm\n",
        "#import pylibjpeg\n",
        "\n",
        "# import some Gen3 packages\n",
        "import gen3\n",
        "from gen3.auth import Gen3Auth\n",
        "from gen3.query import Gen3Query\n",
        "\n"
      ],
      "id": "7ea2fa09"
    },
    {
      "cell_type": "markdown",
      "metadata": {
        "id": "7784ecc9"
      },
      "source": [
        "### Initiate instances of the Gen3 SDK Classes using credentials file for authentication\n",
        "---\n",
        "Again, make sure the \"cred\" directory path variable reflects the location of your credentials file (path variables set above)."
      ],
      "id": "7784ecc9"
    },
    {
      "cell_type": "code",
      "execution_count": null,
      "metadata": {
        "id": "d316dcdf"
      },
      "outputs": [],
      "source": [
        "auth = Gen3Auth(api, refresh_file=cred) # authentication class\n",
        "query = Gen3Query(auth) # query class\n"
      ],
      "id": "d316dcdf"
    },
    {
      "cell_type": "markdown",
      "metadata": {
        "id": "2ea96784-3370-46a6-a2c7-edda947bfa8f"
      },
      "source": [
        "## 2) Build Cohorts by Sending Queries to the MIDRC APIs\n",
        "#### General notes on sending queries:\n",
        "* There are many ways to query and access metadata for cohort building in MIDRC, but this notebook will focus on using the [Gen3](https://gen3.org) graphQL query service [\"guppy\"](https://github.com/uc-cdis/guppy/#readme). This is the backend query service that [MIDRC's data explorer GUI](https://data.midrc.org/explorer) uses. So, anything you can do in the explorer GUI, you can do with guppy queries, and more!\n",
        "* The guppy graphQL service has more functionality than is demonstrated in this simple example. You can find extensive documentation in GitHub [here](https://github.com/uc-cdis/guppy/blob/master/doc/queries.md) in case you'd like to build your own queries from scratch.\n",
        "* The Gen3 SDK (intialized as `query` above in this notebook) has Python wrapper scripts to make sending queries to the guppy graphQL API simpler. The guppy SDK package can be viewed in GitHub [here](https://github.com/uc-cdis/gen3sdk-python/blob/master/gen3/query.py).\n",
        "* Guppy queries focus on a particular type of data (cases, imaging studies, files, etc.), which corresponds to the major tabs in [MIDRC's data explorer GUI](https://data.midrc.org/explorer).\n",
        "* Queries include arguments that are akin to selecting filter values in [MIDRC's data explorer GUI](https://data.midrc.org/explorer).\n",
        "* To see more documentation about how to use and combine filters with various operator logic (like AND/OR/IN, etc.) see [this page](https://github.com/uc-cdis/guppy/blob/master/doc/queries.md#filter).\n",
        "\n",
        "---\n"
      ],
      "id": "2ea96784-3370-46a6-a2c7-edda947bfa8f"
    },
    {
      "cell_type": "markdown",
      "metadata": {
        "id": "3e4a624e-f769-46a9-b76c-2efe9713bf61"
      },
      "source": [
        "#### Set query parameters\n",
        "---\n",
        "* Here, we'll send a query to the `imaging_study` guppy index, which corresponds to the \"Imaging Studies\" tab of [MIDRC's data explorer GUI](https://data.midrc.org/explorer).\n",
        "* The filters defined below can be modified to return different subsets of imaging studies. Here, we'll use rather restrictive parameters so the number of studies returned is small for demonstration purposes.\n",
        "* If our query request is successful, the API response should be in JSON format, and it should contain a list of imaging study UIDs along with any other study-related data we ask for.\n"
      ],
      "id": "3e4a624e-f769-46a9-b76c-2efe9713bf61"
    },
    {
      "cell_type": "code",
      "execution_count": null,
      "metadata": {
        "id": "9bc4a36e-0647-4546-9777-6d0ad7b32750"
      },
      "outputs": [],
      "source": [
        "### Set some \"imaging_study\" query parameters\n",
        "\n",
        "## mRALE filter: we'll select all imaging studies annotated with an mRALE score greater than or equal to this threshold number\n",
        "mRALE_threshold = 20\n",
        "\n",
        "## days from study to positive COVID-19 test filter: we want imaging studies performed within two days after a positive test\n",
        "min_days_from_study_to_test = -2\n",
        "max_days_from_study_to_test = 0\n",
        "\n",
        "## Imaging study modality filter: we select imaging studies with a modality of either DX or CR\n",
        "study_modalities = [\"DX\", \"CR\"]\n",
        "\n",
        "## Imaging study body part filter: here we select \"chest\" as the \"LOINC system\" filter, which is the body part examined\n",
        "body_part_examined = \"Chest\"\n",
        "\n",
        "## Case filters: we will select Hispanic males 70 years of age and older\n",
        "ethnicity = \"Hispanic or Latino\"\n",
        "sex = \"Male\"\n",
        "age_threshold = 70"
      ],
      "id": "9bc4a36e-0647-4546-9777-6d0ad7b32750"
    },
    {
      "cell_type": "code",
      "execution_count": null,
      "metadata": {
        "id": "8910b3e4"
      },
      "outputs": [],
      "source": [
        "## Note: the \"fields\" option defines what fields we want the query to return. If set to \"None\", returns all available fields.\n",
        "\n",
        "imaging_studies = query.raw_data_download(\n",
        "                    data_type=\"imaging_study\",\n",
        "                    fields=None,\n",
        "                    filter_object={\n",
        "                        \"AND\": [\n",
        "                            {\"=\": {\"loinc_system\": body_part_examined}},\n",
        "                            {\"=\": {\"sex\": sex}},\n",
        "                            {\"=\": {\"ethnicity\": ethnicity}},\n",
        "                            {\">=\": {\"age_at_index\": age_threshold}},\n",
        "                            {\"IN\": {\"study_modality\": study_modalities}},\n",
        "                            {\"nested\": {\"path\": \"imaging_study_annotations\", \">=\": {\"midrc_mRALE_score\": mRALE_threshold}}},\n",
        "                            {\"AND\": [\n",
        "                                {\">=\": {\"days_from_study_to_pos_covid_test\": min_days_from_study_to_test}},\n",
        "                                {\"<=\": {\"days_from_study_to_pos_covid_test\": max_days_from_study_to_test}}\n",
        "                            ]}\n",
        "                        ]\n",
        "                    },\n",
        "                    sort_fields=[{\"submitter_id\": \"asc\"}]\n",
        "                )\n",
        "\n",
        "if len(imaging_studies) > 0:\n",
        "    imaging_studies_ids = [i['submitter_id'] for i in imaging_studies if 'submitter_id' in i] ## make a list of the imaging study IDs returned\n",
        "    print(\"Query returned {} study IDs from {} cases.\".format(len(imaging_studies),len(set([i['case_ids'][0] for i in imaging_studies if 'case_ids' in i]))))\n",
        "    print(\"Data is a list with rows like this:\\n\\t {}\".format(imaging_studies[0:1]))\n",
        "else:\n",
        "    print(\"Your query returned no data! Please, check that query parameters are valid.\")"
      ],
      "id": "8910b3e4"
    },
    {
      "cell_type": "code",
      "execution_count": null,
      "metadata": {
        "id": "33093eff-621f-452b-a0af-89af1940c65f"
      },
      "outputs": [],
      "source": [
        "imaging_studies_df = pd.DataFrame(imaging_studies)\n",
        "display(imaging_studies_df)\n"
      ],
      "id": "33093eff-621f-452b-a0af-89af1940c65f"
    },
    {
      "cell_type": "markdown",
      "metadata": {
        "id": "2c0f29ab-ab87-4fe5-859b-d5158c0fa3d7"
      },
      "source": [
        "## 3) Send another query to get data file details for our cohort / case ID\n",
        "---\n",
        "The `object_id` field in each imaging study record above contains the file identifiers for all files associated with each imaging study, which could include files like third-party annotations. If we simply want to access all files associated with our list of cases, we can use those object_ids.\n",
        "\n",
        "However, in this example, we'll ask for specific types of files and get more detailed information about each of the files. This is achieved by querying the `data_file` guppy index, which corresponds to the \"Data Files\" tab of the MIDRC data explorer GUID.\n",
        "\n",
        "All MIDRC data files, including both images and annotations, are listed in the guppy index \"data_file\", which is queried in a similar manner to our query of the `imaging_study` index above. The query parameter `data_type` below determines which guppy (Elasticsearch) index we're querying.\n",
        "\n",
        "To get only `data_file` records that correspond to our imaging study cohort built previously, we'll use the list of study UIDs as a query filter.\n"
      ],
      "id": "2c0f29ab-ab87-4fe5-859b-d5158c0fa3d7"
    },
    {
      "cell_type": "markdown",
      "metadata": {
        "id": "2959c0ed-adde-4f34-8308-ca0f61c599cf"
      },
      "source": [
        "### Set 'data_file' query parameters\n",
        "---\n",
        "Here, we'll utilize the property `source_node` to filter the list of files for our cohort to only those matching the type of files we're interested in. In this example, we ask only for CR and DX (x-ray) images, which will exclude any other types of files like annotations.\n",
        "\n",
        "We're also using the property `study_uid` as a filter to restrict the `data_file` records returned down to those associated with the imaging studies in our cohort built above.\n"
      ],
      "id": "2959c0ed-adde-4f34-8308-ca0f61c599cf"
    },
    {
      "cell_type": "code",
      "execution_count": null,
      "metadata": {
        "id": "07f33bd1-7393-4e0a-902a-771783568280"
      },
      "outputs": [],
      "source": [
        "# Build a list of study UIDs to use as a filter in our data_file query\n",
        "study_uids = [i['study_uid'] for i in imaging_studies]\n",
        "study_uids"
      ],
      "id": "07f33bd1-7393-4e0a-902a-771783568280"
    },
    {
      "cell_type": "code",
      "execution_count": null,
      "metadata": {
        "id": "2efabbc8-c9cb-481a-9847-50659918b6d7"
      },
      "outputs": [],
      "source": [
        "# Choose the types of data we want using \"source_node\" as a filter\n",
        "source_nodes = [\"cr_series_file\",\"dx_series_file\"]\n"
      ],
      "id": "2efabbc8-c9cb-481a-9847-50659918b6d7"
    },
    {
      "cell_type": "code",
      "execution_count": null,
      "metadata": {
        "id": "d3a2b920-15d0-4399-ab2d-4faa2748a314"
      },
      "outputs": [],
      "source": [
        "## Search for specific files associated with our cohort by adding \"study_uid\" as a filter\n",
        "# * Note: \"fields\" is set to \"None\" in this query, which by default returns all the properties available\n",
        "data_files = query.raw_data_download(\n",
        "                    data_type=\"data_file\",\n",
        "                    fields=None,\n",
        "                    filter_object={\n",
        "                        \"AND\": [\n",
        "                            {\"IN\": {\"study_uid\": study_uids}},\n",
        "                            {\"IN\": {\"source_node\": source_nodes}},\n",
        "                        ]\n",
        "                    },\n",
        "                    sort_fields=[{\"submitter_id\": \"asc\"}]\n",
        "                )\n",
        "\n",
        "if len(data_files) > 0:\n",
        "    object_ids = [i['object_id'] for i in data_files if 'object_id' in i] ## make a list of the file object_ids returned by our query\n",
        "    cases = list(set([i['case_ids'][0] for i in data_files if 'case_ids' in i]))\n",
        "    studies = list(set([i['study_uid'][0] for i in data_files if 'study_uid' in i]))\n",
        "    print(\"Query returned {} data files with {} object_ids from {} studies of {} cases.\".format(len(data_files),len(object_ids),len(studies),len(cases)))\n",
        "    print(\"Data is a list with rows like this:\\n\\t {}\".format(data_files[0:1]))\n",
        "else:\n",
        "    print(\"Your query returned no data! Please, check that query parameters are valid.\")"
      ],
      "id": "d3a2b920-15d0-4399-ab2d-4faa2748a314"
    },
    {
      "cell_type": "code",
      "execution_count": null,
      "metadata": {
        "id": "972b4805-61a3-4c22-8339-93878f201e46"
      },
      "outputs": [],
      "source": [
        "# object_id (AKA \"data GUID\") is a globally unique file identifier that points to an actual file object in cloud storage. We'll use the object_ids along with the gen3 command-line tool to download the files these object_ids point to.\n",
        "object_ids\n"
      ],
      "id": "972b4805-61a3-4c22-8339-93878f201e46"
    },
    {
      "cell_type": "markdown",
      "metadata": {
        "id": "81e35d9b-e8ec-4fc0-9d3c-7485446c15f3"
      },
      "source": [
        "## 4) Access data files using their object_id / data GUID (globally unique identifiers)\n",
        "---\n",
        "In order to download files stored in MIDRC, users need to reference the file's object_id (AKA data GUID or Globally Unique IDentifier).\n",
        "\n",
        "Once we have a list of GUIDs we want to download, we can use either the gen3-client or the gen3 SDK to download the files. You can also access individual files in your browser after logging-in and entering the GUID after the `files/` endpoint, as in this URL: https://data.midrc.org/files/GUID\n",
        "\n",
        "where GUID is the actual GUID, e.g.: https://data.midrc.org/files/dg.MD1R/b87d0db3-d95a-43c7-ace1-ab2c130e04ec\n",
        "\n",
        "For instructions on how to install and use the gen3-client, please see [the MIDRC quick-start guide](https://data.midrc.org/dashboard/Public/documentation/Gen3_MIDRC_GetStarted.pdf), which can be found linked here and in the MIDRC data portal header as \"Get Started\".\n",
        "\n",
        "Below we use the gen3 SDK command `gen3 drs-pull object` which is [documented in detail here](https://github.com/uc-cdis/gen3sdk-python/blob/master/docs/howto/drsDownloading.md)."
      ],
      "id": "81e35d9b-e8ec-4fc0-9d3c-7485446c15f3"
    },
    {
      "cell_type": "markdown",
      "metadata": {
        "id": "8449f221-1d8d-4501-86af-111111fc7bf3"
      },
      "source": [
        "### Use the Gen3 SDK command `gen3 drs-pull object` to download an individual file"
      ],
      "id": "8449f221-1d8d-4501-86af-111111fc7bf3"
    },
    {
      "cell_type": "code",
      "execution_count": null,
      "metadata": {
        "id": "f3462219-202b-4d59-9a3d-14cbdecab77b"
      },
      "outputs": [],
      "source": [
        "## Make a new directory in Colab /content dir for downloaded files\n",
        "## Note: if this command is run in Google Colab, this will not alter any local directories\n",
        "os.system(\"rm -r downloads\")\n",
        "os.system(\"mkdir -p downloads\")\n"
      ],
      "id": "f3462219-202b-4d59-9a3d-14cbdecab77b"
    },
    {
      "cell_type": "code",
      "execution_count": null,
      "metadata": {
        "id": "5b156930-805f-4562-aea7-62798b13e46b"
      },
      "outputs": [],
      "source": [
        "## We can use a simple loop to download all files and keep track of successes and failures\n",
        "## Here we will only download one image to save time for demo purposes\n",
        "oid_num = 1\n",
        "success,failure,other=[],[],[]\n",
        "count,total = 0,len(object_ids[0:oid_num])\n",
        "for object_id in object_ids[0:oid_num]:\n",
        "    count+=1\n",
        "    cmd = \"gen3 --auth {} --endpoint data.midrc.org drs-pull object {} --output-dir downloads\".format(cred,object_id)\n",
        "    stout = subprocess.run(cmd, shell=True, capture_output=True)\n",
        "    if not stout.stdout:\n",
        "        raise Exception(f\"gen3 sdk failure: {stout.stderr}\")\n",
        "    #print(\"Progress ({}/{}): {}\".format(count,total,stout.stdout))\n",
        "    print(\"Progress ({}/{}): {}\".format(count,total,stout.stdout.decode(\"utf-8\")))\n",
        "    if \"failed\" in str(stout.stdout):\n",
        "        failure.append(object_id)\n",
        "    elif \"successfully\" in str(stout.stdout):\n",
        "        success.append(object_id)\n",
        "    else:\n",
        "        other.append(object_id)\n"
      ],
      "id": "5b156930-805f-4562-aea7-62798b13e46b"
    },
    {
      "cell_type": "code",
      "execution_count": null,
      "metadata": {
        "id": "cd0ebe63-380a-4606-8285-5736ec87ffee"
      },
      "outputs": [],
      "source": [
        "# Get a list of all downloaded .dcm files\n",
        "image_files = glob.glob(pathname='**/*.dcm',recursive=True,)\n",
        "image_files"
      ],
      "id": "cd0ebe63-380a-4606-8285-5736ec87ffee"
    },
    {
      "cell_type": "markdown",
      "metadata": {
        "id": "d53c1364-aba9-461f-a0f9-e7730875a339"
      },
      "source": [
        "### View the DICOM Images\n",
        "---\n",
        "Here we'll use the [Python package `pydicom`](https://pydicom.github.io/pydicom/stable/) to view the downloaded DICOM images.\n",
        "\n",
        "Note that some of the files may contain compressed pixel data that require other packages to view; so, for this demo we'll simply skip over those using the following loop."
      ],
      "id": "d53c1364-aba9-461f-a0f9-e7730875a339"
    },
    {
      "cell_type": "code",
      "execution_count": null,
      "metadata": {
        "id": "533ce308-3618-47b2-bae1-ad4681feab02",
        "scrolled": true
      },
      "outputs": [],
      "source": [
        "for image_file in image_files:\n",
        "    print(image_file)\n",
        "    ds = pydicom.dcmread(image_file)\n",
        "    try:\n",
        "        new_image = ds.pixel_array.astype(float)\n",
        "        scaled_image = (np.maximum(new_image, 0) / new_image.max()) * 255.0\n",
        "        scaled_image = np.uint8(scaled_image)\n",
        "        final_image = Image.fromarray(scaled_image)\n",
        "        print(type(final_image))\n",
        "        display(final_image)\n",
        "    except Exception as e:\n",
        "        print(\"Couldn't view {}: {}.\".format(image_file,e))"
      ],
      "id": "533ce308-3618-47b2-bae1-ad4681feab02"
    },
    {
      "cell_type": "markdown",
      "metadata": {
        "id": "60bb7027-7fb3-47cb-8b4b-2d084287fc20"
      },
      "source": [
        "#### View the DICOM Headers\n",
        "---\n",
        "DICOM files have metadata elements embedded in the images. These can also be read and viewed using the `pydicom` package."
      ],
      "id": "60bb7027-7fb3-47cb-8b4b-2d084287fc20"
    },
    {
      "cell_type": "code",
      "execution_count": null,
      "metadata": {
        "id": "a1bbb4c1-9ab6-4260-904e-977836b57a01"
      },
      "outputs": [],
      "source": [
        "ds = pydicom.dcmread(image_files[0],force=True)\n",
        "display(ds)"
      ],
      "id": "a1bbb4c1-9ab6-4260-904e-977836b57a01"
    },
    {
      "cell_type": "code",
      "execution_count": null,
      "metadata": {
        "id": "4dec9bce-7f8f-48ee-abe1-6bc380d923c3"
      },
      "outputs": [],
      "source": [
        "# Access individual elements\n",
        "display(ds.file_meta)\n",
        "display(ds.ImageType)\n",
        "display(ds[0x0008, 0x0016])\n"
      ],
      "id": "4dec9bce-7f8f-48ee-abe1-6bc380d923c3"
    },
    {
      "cell_type": "code",
      "execution_count": null,
      "metadata": {
        "id": "ecceb434-83f2-45f1-b1f0-7e1c58fafde9"
      },
      "outputs": [],
      "source": [
        "# View the dicom metadata for all files as a DataFrame\n",
        "dfs = []\n",
        "for image_file in image_files:\n",
        "    ds = pydicom.dcmread(image_file)\n",
        "    df = pd.DataFrame(ds.values())\n",
        "    df[0] = df[0].apply(lambda x: pydicom.dataelem.convert_raw_data_element(x) if isinstance(x, pydicom.dataelem.RawDataElement) else x)\n",
        "    df['name'] = df[0].apply(lambda x: x.name)\n",
        "    df['value'] = df[0].apply(lambda x: x.value)\n",
        "    df = df[['name', 'value']]\n",
        "    df = df.set_index('name').T.reset_index(drop=True)\n",
        "    df['filename'] = image_file\n",
        "    df.drop(columns=['Pixel Data'],inplace=True) # drop the pixel data as it's too large and nonsensical to store in a DataFrame\n",
        "    dfs.append(df)"
      ],
      "id": "ecceb434-83f2-45f1-b1f0-7e1c58fafde9"
    },
    {
      "cell_type": "code",
      "execution_count": null,
      "metadata": {
        "id": "3e55cd95-570b-42d0-80cd-fb47693c49dd"
      },
      "outputs": [],
      "source": [
        "# Make a master dataframe for all images using only headers in all dataframes\n",
        "headers = list(set.intersection(*map(set,dfs)))\n",
        "df = pd.concat([df[headers] for df in dfs])\n",
        "df.set_index('filename',inplace=True)\n"
      ],
      "id": "3e55cd95-570b-42d0-80cd-fb47693c49dd"
    },
    {
      "cell_type": "code",
      "execution_count": null,
      "metadata": {
        "id": "c54f11af-4b8c-4744-bc88-6cd2ced7e102"
      },
      "outputs": [],
      "source": [
        "display(df)"
      ],
      "id": "c54f11af-4b8c-4744-bc88-6cd2ced7e102"
    },
    {
      "cell_type": "code",
      "execution_count": null,
      "metadata": {
        "id": "5b991196-5298-43b6-987a-90de9bf308e5"
      },
      "outputs": [],
      "source": [
        "## Export the file metadata as a TSV file\n",
        "filename = \"MIDRC_DICOM_metadata.tsv\"\n",
        "df.to_csv(filename, sep='\\t')\n"
      ],
      "id": "5b991196-5298-43b6-987a-90de9bf308e5"
    },
    {
      "cell_type": "markdown",
      "metadata": {
        "id": "LxvW5sWGdK6V"
      },
      "source": [
        "## 5) Set up Python environment for MIDRC BIH\n",
        "---\n"
      ],
      "id": "LxvW5sWGdK6V"
    },
    {
      "cell_type": "markdown",
      "metadata": {
        "id": "d6SKQK8edK6W"
      },
      "source": [
        "### Download an API key file containing your credentials\n",
        "---\n",
        "1) Navigate to the MIDRC BIH login page in your browser: https://imaging-hub.data-commons.org/portal/login.\n",
        "2) Navigate to the user profile page: https://imaging-hub.data-commons.org/portal/identity.\n",
        "3) Click on the button \"Create API Key\" and save the `credentials.json` file somewhere safe as `bih-credentails.json`.\n"
      ],
      "id": "d6SKQK8edK6W"
    },
    {
      "cell_type": "markdown",
      "metadata": {
        "id": "96jg82L7dK6W"
      },
      "source": [
        "### Set local variables\n",
        "---\n",
        "Change the following `cred` variable path to point to your credentials file downloaded from the MIDRC data portal following the instructions above."
      ],
      "id": "96jg82L7dK6W"
    },
    {
      "cell_type": "code",
      "execution_count": null,
      "metadata": {
        "id": "NaQ3_X6adK6W"
      },
      "outputs": [],
      "source": [
        "bcred = \"/content/bih-credentials.json\" # location of your MIDRC credentials, downloaded from https://data.midrc.org/identity by clicking \"Create API key\" button and saving the credentials.json locally\n",
        "bapi = \"https://imaging-hub.data-commons.org/\" # The base URL of the data commons being queried. This shouldn't change for MIDRC.\n"
      ],
      "id": "NaQ3_X6adK6W"
    },
    {
      "cell_type": "markdown",
      "metadata": {
        "id": "fUpYD966dwjt"
      },
      "source": [
        "### Initiate instances of the Gen3 SDK Classes using credentials file for authentication\n",
        "---\n",
        "Again, make sure the \"cred\" directory path variable reflects the location of your credentials file (path variables set above)."
      ],
      "id": "fUpYD966dwjt"
    },
    {
      "cell_type": "code",
      "execution_count": null,
      "metadata": {
        "id": "Tuy-GlVhdwju"
      },
      "outputs": [],
      "source": [
        "bauth = Gen3Auth(bapi, refresh_file=bcred) # authentication class\n",
        "bquery = Gen3Query(bauth) # query class\n"
      ],
      "id": "Tuy-GlVhdwju"
    },
    {
      "cell_type": "markdown",
      "metadata": {
        "id": "xsTgXCdJeRWL"
      },
      "source": [
        "## 6) Build Cohorts by Sending Queries to the MIDRC BIH metadata API\n",
        "---\n",
        "#### Set query parameters\n",
        "---\n",
        "* Here, we'll send a query to the `imaging_series` guppy index, which the [MIDRC BIH data explorer GUI](https://data.midrc.org/explorer) runs off.\n",
        "* The filters defined below can be modified to return different subsets of imaging series. Here, we'll use a rather restrictive combination of Modality, Body Part Examined, and Study Descrition filters to narrow our selected imaging series to a small number for demonstration purposes.\n",
        "* If our query request is successful, the API response should be in JSON format, and it should contain a list of imaging series along with any other data we ask for, including data GUIDs we will use to access image files.\n",
        "* Reminder that the guppy graphQL service has extensive documentation in GitHub [here](https://github.com/uc-cdis/guppy/blob/master/doc/queries.md)."
      ],
      "id": "xsTgXCdJeRWL"
    },
    {
      "cell_type": "markdown",
      "metadata": {
        "id": "f_IrjY_eeRWM"
      },
      "source": [
        "\n"
      ],
      "id": "f_IrjY_eeRWM"
    },
    {
      "cell_type": "code",
      "execution_count": null,
      "metadata": {
        "id": "lEeVE9vAeRWM"
      },
      "outputs": [],
      "source": [
        "### Set some \"imaging_series\" query parameters to select Lung CT imaging series for female COVID-19 cases across the Biomedical Imaging Data Fabric\n",
        "\n",
        "## Here we select imaging series with a BodyPartExamined of \"Chest\"\n",
        "BodyPartExamined = \"LUNG\"\n",
        "\n",
        "## Here we select imaging series with a Modality of \"CT\"\n",
        "Modality = \"CT\"\n",
        "\n",
        "## Here we select imaging series with a PatientSex of \"Female\"\n",
        "PatientSex = \"Female\"\n",
        "\n",
        "## Here we select imaging series with a disease_type of \"COVID-19\"\n",
        "disease_type = \"COVID-19\"\n",
        "\n"
      ],
      "id": "lEeVE9vAeRWM"
    },
    {
      "cell_type": "code",
      "execution_count": null,
      "metadata": {
        "id": "k_e1ln9beRWN"
      },
      "outputs": [],
      "source": [
        "## Note: the \"fields\" option defines what fields we want the query to return. If set to \"None\", returns all available fields.\n",
        "\n",
        "series = bquery.raw_data_download(\n",
        "                    data_type=\"imaging_series\",\n",
        "                    fields=None,\n",
        "                    filter_object={\n",
        "                        \"AND\": [\n",
        "                            {\"=\": {\"BodyPartExamined\": BodyPartExamined}},\n",
        "                            {\"=\": {\"Modality\": Modality}},\n",
        "                            {\"=\": {\"PatientSex\": PatientSex}},\n",
        "                            {\"=\": {\"disease_type\": disease_type}},\n",
        "                        ]\n",
        "                    },\n",
        "                    sort_fields=[{\"submitter_id\": \"asc\"}]\n",
        "                )\n",
        "\n",
        "if len(series) > 0:\n",
        "    series_ids = list(set([i['submitter_id'] for i in series if 'submitter_id' in i])) ## make a list of the imaging series IDs returned\n",
        "    object_ids = list(set([rec['object_ids'][0] for rec in series if 'object_ids' in rec])) ## make a list of the imaging series IDs returned\n",
        "    subject_ids = list(set([rec['subject_id'][0] for rec in series if 'subject_id' in rec])) ## make a list of the imaging series IDs returned\n",
        "    print(\"Query returned {} imaging series for {} subjects with {} object_ids.\".format(len(series),len(subject_ids),len(object_ids)))\n",
        "    print(\"Data is a list with rows like this:\")\n",
        "    for k,v in series[0:1][0].items():\n",
        "      print(\"\\t\\'{}' : '{}'\".format(k,v))\n",
        "else:\n",
        "    print(\"Your query returned no data! Please, check that query parameters are valid.\")"
      ],
      "id": "k_e1ln9beRWN"
    },
    {
      "cell_type": "code",
      "execution_count": null,
      "metadata": {
        "id": "Sa68oHD-eRWN"
      },
      "outputs": [],
      "source": [
        "series_df = pd.DataFrame(series)\n",
        "display(series_df)\n"
      ],
      "id": "Sa68oHD-eRWN"
    },
    {
      "cell_type": "code",
      "source": [
        "## Export the file metadata as a TSV file\n",
        "filename = \"MIDRC_BIH_imaging_series_metadata.tsv\"\n",
        "series_df.to_csv(filename, sep='\\t')\n"
      ],
      "metadata": {
        "id": "XaGi5Pudvljn"
      },
      "id": "XaGi5Pudvljn",
      "execution_count": null,
      "outputs": []
    },
    {
      "cell_type": "markdown",
      "metadata": {
        "id": "V4HS7Cmxqoc0"
      },
      "source": [
        "## 7) Access data files using their object_id / data GUID (globally unique identifiers)\n",
        "---\n",
        "In order to programmatically access files for imaging series indexed in MIDRC BIH, users can reference the file's object_id (AKA data GUID or Globally Unique IDentifier, which is an example of a GA4GH DRS URI).\n",
        "\n",
        "If an imaging series does not have an object_id associated with it, users will need to follow the platform links in the data table to the host platform where the data can be accessed or requested.\n",
        "\n",
        "As above for the MIDRC data commons, once we have a list of object_ids / image GUIDs we want to download, we can use either the gen3-client or the gen3 SDK to download the files.\n",
        "\n",
        "For instructions on how to install and use the gen3-client, please see [the MIDRC quick-start guide](https://data.midrc.org/dashboard/Public/documentation/Gen3_MIDRC_GetStarted.pdf), which can be found linked here and in the MIDRC data portal header as \"Get Started\".\n",
        "\n",
        "Below we use the gen3 SDK command `gen3 drs-pull object` which is [documented in detail here](https://github.com/uc-cdis/gen3sdk-python/blob/master/docs/howto/drsDownloading.md)."
      ],
      "id": "V4HS7Cmxqoc0"
    },
    {
      "cell_type": "markdown",
      "metadata": {
        "id": "Xif_NvRhqoc1"
      },
      "source": [
        "### View the DICOM Images\n",
        "---\n",
        "The MIDRC BIH aggregates dicom viewer URLs from across connected nodes in the Biomedical Imaging Data Fabric. If a connected data resources runs a dicom viewer and provides URLs for imaging series, the URL should be available in the BIH metadata, demonstrated below."
      ],
      "id": "Xif_NvRhqoc1"
    },
    {
      "cell_type": "code",
      "execution_count": null,
      "metadata": {
        "scrolled": true,
        "id": "i0FwitvWqoc1"
      },
      "outputs": [],
      "source": [
        "for rec in series:\n",
        "  if 'dicom_viewer_url' in rec and rec['dicom_viewer_url'] != np.nan:\n",
        "    print(\"{}\".format(rec['dicom_viewer_url']))"
      ],
      "id": "i0FwitvWqoc1"
    },
    {
      "cell_type": "markdown",
      "metadata": {
        "id": "544761e9"
      },
      "source": [
        "## The End\n",
        "---\n",
        "If you have any questions related to this notebook don't hesitate to reach out to the MIDRC Helpdesk at midrc-support@gen3.org or the author directly at cgmeyer@uchicago.edu\n",
        "\n",
        "Happy data wrangling!"
      ],
      "id": "544761e9"
    }
  ],
  "metadata": {
    "colab": {
      "provenance": [],
      "include_colab_link": true
    },
    "kernelspec": {
      "display_name": "Python 3 (ipykernel)",
      "language": "python",
      "name": "python3"
    },
    "language_info": {
      "codemirror_mode": {
        "name": "ipython",
        "version": 3
      },
      "file_extension": ".py",
      "mimetype": "text/x-python",
      "name": "python",
      "nbconvert_exporter": "python",
      "pygments_lexer": "ipython3",
      "version": "3.9.6"
    }
  },
  "nbformat": 4,
  "nbformat_minor": 5
}